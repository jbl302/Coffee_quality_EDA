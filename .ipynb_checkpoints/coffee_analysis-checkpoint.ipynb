{
 "cells": [
  {
   "cell_type": "code",
   "execution_count": 79,
   "id": "e17814fb",
   "metadata": {},
   "outputs": [],
   "source": [
    "import pandas as pd\n",
    "import matplotlib.pyplot as plt\n",
    "import seaborn as sns\n",
    "pd.set_option('display.max_columns', None) \n"
   ]
  },
  {
   "cell_type": "code",
   "execution_count": 80,
   "id": "bfd82e69",
   "metadata": {},
   "outputs": [
    {
     "data": {
      "text/html": [
       "<div>\n",
       "<style scoped>\n",
       "    .dataframe tbody tr th:only-of-type {\n",
       "        vertical-align: middle;\n",
       "    }\n",
       "\n",
       "    .dataframe tbody tr th {\n",
       "        vertical-align: top;\n",
       "    }\n",
       "\n",
       "    .dataframe thead th {\n",
       "        text-align: right;\n",
       "    }\n",
       "</style>\n",
       "<table border=\"1\" class=\"dataframe\">\n",
       "  <thead>\n",
       "    <tr style=\"text-align: right;\">\n",
       "      <th></th>\n",
       "      <th>Species</th>\n",
       "      <th>Owner</th>\n",
       "      <th>Country.of.Origin</th>\n",
       "      <th>Farm.Name</th>\n",
       "      <th>Lot.Number</th>\n",
       "      <th>Mill</th>\n",
       "      <th>ICO.Number</th>\n",
       "      <th>Company</th>\n",
       "      <th>Altitude</th>\n",
       "      <th>Region</th>\n",
       "      <th>Producer</th>\n",
       "      <th>Number.of.Bags</th>\n",
       "      <th>Bag.Weight</th>\n",
       "      <th>In.Country.Partner</th>\n",
       "      <th>Harvest.Year</th>\n",
       "      <th>Grading.Date</th>\n",
       "      <th>Owner.1</th>\n",
       "      <th>Variety</th>\n",
       "      <th>Processing.Method</th>\n",
       "      <th>Aroma</th>\n",
       "      <th>Flavor</th>\n",
       "      <th>Aftertaste</th>\n",
       "      <th>Acidity</th>\n",
       "      <th>Body</th>\n",
       "      <th>Balance</th>\n",
       "      <th>Uniformity</th>\n",
       "      <th>Clean.Cup</th>\n",
       "      <th>Sweetness</th>\n",
       "      <th>Cupper.Points</th>\n",
       "      <th>Total.Cup.Points</th>\n",
       "      <th>Moisture</th>\n",
       "      <th>Category.One.Defects</th>\n",
       "      <th>Quakers</th>\n",
       "      <th>Color</th>\n",
       "      <th>Category.Two.Defects</th>\n",
       "      <th>Expiration</th>\n",
       "      <th>Certification.Body</th>\n",
       "      <th>Certification.Address</th>\n",
       "      <th>Certification.Contact</th>\n",
       "      <th>unit_of_measurement</th>\n",
       "      <th>altitude_low_meters</th>\n",
       "      <th>altitude_high_meters</th>\n",
       "      <th>altitude_mean_meters</th>\n",
       "    </tr>\n",
       "  </thead>\n",
       "  <tbody>\n",
       "    <tr>\n",
       "      <th>0</th>\n",
       "      <td>Arabica</td>\n",
       "      <td>metad plc</td>\n",
       "      <td>Ethiopia</td>\n",
       "      <td>metad plc</td>\n",
       "      <td>NaN</td>\n",
       "      <td>metad plc</td>\n",
       "      <td>2014/2015</td>\n",
       "      <td>metad agricultural developmet plc</td>\n",
       "      <td>1950-2200</td>\n",
       "      <td>guji-hambela</td>\n",
       "      <td>METAD PLC</td>\n",
       "      <td>300.0</td>\n",
       "      <td>60 kg</td>\n",
       "      <td>METAD Agricultural Development plc</td>\n",
       "      <td>2014</td>\n",
       "      <td>April 4th, 2015</td>\n",
       "      <td>metad plc</td>\n",
       "      <td>NaN</td>\n",
       "      <td>Washed / Wet</td>\n",
       "      <td>8.67</td>\n",
       "      <td>8.83</td>\n",
       "      <td>8.67</td>\n",
       "      <td>8.75</td>\n",
       "      <td>8.50</td>\n",
       "      <td>8.42</td>\n",
       "      <td>10.0</td>\n",
       "      <td>10.0</td>\n",
       "      <td>10.0</td>\n",
       "      <td>8.75</td>\n",
       "      <td>90.58</td>\n",
       "      <td>0.12</td>\n",
       "      <td>0</td>\n",
       "      <td>0.0</td>\n",
       "      <td>Green</td>\n",
       "      <td>0</td>\n",
       "      <td>April 3rd, 2016</td>\n",
       "      <td>METAD Agricultural Development plc</td>\n",
       "      <td>309fcf77415a3661ae83e027f7e5f05dad786e44</td>\n",
       "      <td>19fef5a731de2db57d16da10287413f5f99bc2dd</td>\n",
       "      <td>m</td>\n",
       "      <td>1950.0</td>\n",
       "      <td>2200.0</td>\n",
       "      <td>2075.0</td>\n",
       "    </tr>\n",
       "    <tr>\n",
       "      <th>1</th>\n",
       "      <td>Arabica</td>\n",
       "      <td>metad plc</td>\n",
       "      <td>Ethiopia</td>\n",
       "      <td>metad plc</td>\n",
       "      <td>NaN</td>\n",
       "      <td>metad plc</td>\n",
       "      <td>2014/2015</td>\n",
       "      <td>metad agricultural developmet plc</td>\n",
       "      <td>1950-2200</td>\n",
       "      <td>guji-hambela</td>\n",
       "      <td>METAD PLC</td>\n",
       "      <td>300.0</td>\n",
       "      <td>60 kg</td>\n",
       "      <td>METAD Agricultural Development plc</td>\n",
       "      <td>2014</td>\n",
       "      <td>April 4th, 2015</td>\n",
       "      <td>metad plc</td>\n",
       "      <td>Other</td>\n",
       "      <td>Washed / Wet</td>\n",
       "      <td>8.75</td>\n",
       "      <td>8.67</td>\n",
       "      <td>8.50</td>\n",
       "      <td>8.58</td>\n",
       "      <td>8.42</td>\n",
       "      <td>8.42</td>\n",
       "      <td>10.0</td>\n",
       "      <td>10.0</td>\n",
       "      <td>10.0</td>\n",
       "      <td>8.58</td>\n",
       "      <td>89.92</td>\n",
       "      <td>0.12</td>\n",
       "      <td>0</td>\n",
       "      <td>0.0</td>\n",
       "      <td>Green</td>\n",
       "      <td>1</td>\n",
       "      <td>April 3rd, 2016</td>\n",
       "      <td>METAD Agricultural Development plc</td>\n",
       "      <td>309fcf77415a3661ae83e027f7e5f05dad786e44</td>\n",
       "      <td>19fef5a731de2db57d16da10287413f5f99bc2dd</td>\n",
       "      <td>m</td>\n",
       "      <td>1950.0</td>\n",
       "      <td>2200.0</td>\n",
       "      <td>2075.0</td>\n",
       "    </tr>\n",
       "    <tr>\n",
       "      <th>2</th>\n",
       "      <td>Arabica</td>\n",
       "      <td>grounds for health admin</td>\n",
       "      <td>Guatemala</td>\n",
       "      <td>san marcos barrancas \"san cristobal cuch</td>\n",
       "      <td>NaN</td>\n",
       "      <td>NaN</td>\n",
       "      <td>NaN</td>\n",
       "      <td>NaN</td>\n",
       "      <td>1600 - 1800 m</td>\n",
       "      <td>NaN</td>\n",
       "      <td>NaN</td>\n",
       "      <td>5.0</td>\n",
       "      <td>1</td>\n",
       "      <td>Specialty Coffee Association</td>\n",
       "      <td>NaN</td>\n",
       "      <td>May 31st, 2010</td>\n",
       "      <td>Grounds for Health Admin</td>\n",
       "      <td>Bourbon</td>\n",
       "      <td>NaN</td>\n",
       "      <td>8.42</td>\n",
       "      <td>8.50</td>\n",
       "      <td>8.42</td>\n",
       "      <td>8.42</td>\n",
       "      <td>8.33</td>\n",
       "      <td>8.42</td>\n",
       "      <td>10.0</td>\n",
       "      <td>10.0</td>\n",
       "      <td>10.0</td>\n",
       "      <td>9.25</td>\n",
       "      <td>89.75</td>\n",
       "      <td>0.00</td>\n",
       "      <td>0</td>\n",
       "      <td>0.0</td>\n",
       "      <td>NaN</td>\n",
       "      <td>0</td>\n",
       "      <td>May 31st, 2011</td>\n",
       "      <td>Specialty Coffee Association</td>\n",
       "      <td>36d0d00a3724338ba7937c52a378d085f2172daa</td>\n",
       "      <td>0878a7d4b9d35ddbf0fe2ce69a2062cceb45a660</td>\n",
       "      <td>m</td>\n",
       "      <td>1600.0</td>\n",
       "      <td>1800.0</td>\n",
       "      <td>1700.0</td>\n",
       "    </tr>\n",
       "    <tr>\n",
       "      <th>3</th>\n",
       "      <td>Arabica</td>\n",
       "      <td>yidnekachew dabessa</td>\n",
       "      <td>Ethiopia</td>\n",
       "      <td>yidnekachew dabessa coffee plantation</td>\n",
       "      <td>NaN</td>\n",
       "      <td>wolensu</td>\n",
       "      <td>NaN</td>\n",
       "      <td>yidnekachew debessa coffee plantation</td>\n",
       "      <td>1800-2200</td>\n",
       "      <td>oromia</td>\n",
       "      <td>Yidnekachew Dabessa Coffee Plantation</td>\n",
       "      <td>320.0</td>\n",
       "      <td>60 kg</td>\n",
       "      <td>METAD Agricultural Development plc</td>\n",
       "      <td>2014</td>\n",
       "      <td>March 26th, 2015</td>\n",
       "      <td>Yidnekachew Dabessa</td>\n",
       "      <td>NaN</td>\n",
       "      <td>Natural / Dry</td>\n",
       "      <td>8.17</td>\n",
       "      <td>8.58</td>\n",
       "      <td>8.42</td>\n",
       "      <td>8.42</td>\n",
       "      <td>8.50</td>\n",
       "      <td>8.25</td>\n",
       "      <td>10.0</td>\n",
       "      <td>10.0</td>\n",
       "      <td>10.0</td>\n",
       "      <td>8.67</td>\n",
       "      <td>89.00</td>\n",
       "      <td>0.11</td>\n",
       "      <td>0</td>\n",
       "      <td>0.0</td>\n",
       "      <td>Green</td>\n",
       "      <td>2</td>\n",
       "      <td>March 25th, 2016</td>\n",
       "      <td>METAD Agricultural Development plc</td>\n",
       "      <td>309fcf77415a3661ae83e027f7e5f05dad786e44</td>\n",
       "      <td>19fef5a731de2db57d16da10287413f5f99bc2dd</td>\n",
       "      <td>m</td>\n",
       "      <td>1800.0</td>\n",
       "      <td>2200.0</td>\n",
       "      <td>2000.0</td>\n",
       "    </tr>\n",
       "    <tr>\n",
       "      <th>4</th>\n",
       "      <td>Arabica</td>\n",
       "      <td>metad plc</td>\n",
       "      <td>Ethiopia</td>\n",
       "      <td>metad plc</td>\n",
       "      <td>NaN</td>\n",
       "      <td>metad plc</td>\n",
       "      <td>2014/2015</td>\n",
       "      <td>metad agricultural developmet plc</td>\n",
       "      <td>1950-2200</td>\n",
       "      <td>guji-hambela</td>\n",
       "      <td>METAD PLC</td>\n",
       "      <td>300.0</td>\n",
       "      <td>60 kg</td>\n",
       "      <td>METAD Agricultural Development plc</td>\n",
       "      <td>2014</td>\n",
       "      <td>April 4th, 2015</td>\n",
       "      <td>metad plc</td>\n",
       "      <td>Other</td>\n",
       "      <td>Washed / Wet</td>\n",
       "      <td>8.25</td>\n",
       "      <td>8.50</td>\n",
       "      <td>8.25</td>\n",
       "      <td>8.50</td>\n",
       "      <td>8.42</td>\n",
       "      <td>8.33</td>\n",
       "      <td>10.0</td>\n",
       "      <td>10.0</td>\n",
       "      <td>10.0</td>\n",
       "      <td>8.58</td>\n",
       "      <td>88.83</td>\n",
       "      <td>0.12</td>\n",
       "      <td>0</td>\n",
       "      <td>0.0</td>\n",
       "      <td>Green</td>\n",
       "      <td>2</td>\n",
       "      <td>April 3rd, 2016</td>\n",
       "      <td>METAD Agricultural Development plc</td>\n",
       "      <td>309fcf77415a3661ae83e027f7e5f05dad786e44</td>\n",
       "      <td>19fef5a731de2db57d16da10287413f5f99bc2dd</td>\n",
       "      <td>m</td>\n",
       "      <td>1950.0</td>\n",
       "      <td>2200.0</td>\n",
       "      <td>2075.0</td>\n",
       "    </tr>\n",
       "  </tbody>\n",
       "</table>\n",
       "</div>"
      ],
      "text/plain": [
       "   Species                     Owner Country.of.Origin  \\\n",
       "0  Arabica                 metad plc          Ethiopia   \n",
       "1  Arabica                 metad plc          Ethiopia   \n",
       "2  Arabica  grounds for health admin         Guatemala   \n",
       "3  Arabica       yidnekachew dabessa          Ethiopia   \n",
       "4  Arabica                 metad plc          Ethiopia   \n",
       "\n",
       "                                  Farm.Name Lot.Number       Mill ICO.Number  \\\n",
       "0                                 metad plc        NaN  metad plc  2014/2015   \n",
       "1                                 metad plc        NaN  metad plc  2014/2015   \n",
       "2  san marcos barrancas \"san cristobal cuch        NaN        NaN        NaN   \n",
       "3     yidnekachew dabessa coffee plantation        NaN    wolensu        NaN   \n",
       "4                                 metad plc        NaN  metad plc  2014/2015   \n",
       "\n",
       "                                 Company       Altitude        Region  \\\n",
       "0      metad agricultural developmet plc      1950-2200  guji-hambela   \n",
       "1      metad agricultural developmet plc      1950-2200  guji-hambela   \n",
       "2                                    NaN  1600 - 1800 m           NaN   \n",
       "3  yidnekachew debessa coffee plantation      1800-2200        oromia   \n",
       "4      metad agricultural developmet plc      1950-2200  guji-hambela   \n",
       "\n",
       "                                Producer  Number.of.Bags Bag.Weight  \\\n",
       "0                              METAD PLC           300.0      60 kg   \n",
       "1                              METAD PLC           300.0      60 kg   \n",
       "2                                    NaN             5.0          1   \n",
       "3  Yidnekachew Dabessa Coffee Plantation           320.0      60 kg   \n",
       "4                              METAD PLC           300.0      60 kg   \n",
       "\n",
       "                   In.Country.Partner Harvest.Year      Grading.Date  \\\n",
       "0  METAD Agricultural Development plc         2014   April 4th, 2015   \n",
       "1  METAD Agricultural Development plc         2014   April 4th, 2015   \n",
       "2        Specialty Coffee Association          NaN    May 31st, 2010   \n",
       "3  METAD Agricultural Development plc         2014  March 26th, 2015   \n",
       "4  METAD Agricultural Development plc         2014   April 4th, 2015   \n",
       "\n",
       "                    Owner.1  Variety Processing.Method  Aroma  Flavor  \\\n",
       "0                 metad plc      NaN      Washed / Wet   8.67    8.83   \n",
       "1                 metad plc    Other      Washed / Wet   8.75    8.67   \n",
       "2  Grounds for Health Admin  Bourbon               NaN   8.42    8.50   \n",
       "3       Yidnekachew Dabessa      NaN     Natural / Dry   8.17    8.58   \n",
       "4                 metad plc    Other      Washed / Wet   8.25    8.50   \n",
       "\n",
       "   Aftertaste  Acidity  Body  Balance  Uniformity  Clean.Cup  Sweetness  \\\n",
       "0        8.67     8.75  8.50     8.42        10.0       10.0       10.0   \n",
       "1        8.50     8.58  8.42     8.42        10.0       10.0       10.0   \n",
       "2        8.42     8.42  8.33     8.42        10.0       10.0       10.0   \n",
       "3        8.42     8.42  8.50     8.25        10.0       10.0       10.0   \n",
       "4        8.25     8.50  8.42     8.33        10.0       10.0       10.0   \n",
       "\n",
       "   Cupper.Points  Total.Cup.Points  Moisture  Category.One.Defects  Quakers  \\\n",
       "0           8.75             90.58      0.12                     0      0.0   \n",
       "1           8.58             89.92      0.12                     0      0.0   \n",
       "2           9.25             89.75      0.00                     0      0.0   \n",
       "3           8.67             89.00      0.11                     0      0.0   \n",
       "4           8.58             88.83      0.12                     0      0.0   \n",
       "\n",
       "   Color  Category.Two.Defects        Expiration  \\\n",
       "0  Green                     0   April 3rd, 2016   \n",
       "1  Green                     1   April 3rd, 2016   \n",
       "2    NaN                     0    May 31st, 2011   \n",
       "3  Green                     2  March 25th, 2016   \n",
       "4  Green                     2   April 3rd, 2016   \n",
       "\n",
       "                   Certification.Body  \\\n",
       "0  METAD Agricultural Development plc   \n",
       "1  METAD Agricultural Development plc   \n",
       "2        Specialty Coffee Association   \n",
       "3  METAD Agricultural Development plc   \n",
       "4  METAD Agricultural Development plc   \n",
       "\n",
       "                      Certification.Address  \\\n",
       "0  309fcf77415a3661ae83e027f7e5f05dad786e44   \n",
       "1  309fcf77415a3661ae83e027f7e5f05dad786e44   \n",
       "2  36d0d00a3724338ba7937c52a378d085f2172daa   \n",
       "3  309fcf77415a3661ae83e027f7e5f05dad786e44   \n",
       "4  309fcf77415a3661ae83e027f7e5f05dad786e44   \n",
       "\n",
       "                      Certification.Contact unit_of_measurement  \\\n",
       "0  19fef5a731de2db57d16da10287413f5f99bc2dd                   m   \n",
       "1  19fef5a731de2db57d16da10287413f5f99bc2dd                   m   \n",
       "2  0878a7d4b9d35ddbf0fe2ce69a2062cceb45a660                   m   \n",
       "3  19fef5a731de2db57d16da10287413f5f99bc2dd                   m   \n",
       "4  19fef5a731de2db57d16da10287413f5f99bc2dd                   m   \n",
       "\n",
       "   altitude_low_meters  altitude_high_meters  altitude_mean_meters  \n",
       "0               1950.0                2200.0                2075.0  \n",
       "1               1950.0                2200.0                2075.0  \n",
       "2               1600.0                1800.0                1700.0  \n",
       "3               1800.0                2200.0                2000.0  \n",
       "4               1950.0                2200.0                2075.0  "
      ]
     },
     "execution_count": 80,
     "metadata": {},
     "output_type": "execute_result"
    }
   ],
   "source": [
    "df = pd.read_csv('CoffeeQuality.csv',index_col=0)\n",
    "df.head()"
   ]
  },
  {
   "cell_type": "code",
   "execution_count": 81,
   "id": "c4a372bb",
   "metadata": {},
   "outputs": [
    {
     "data": {
      "text/plain": [
       "(1339, 43)"
      ]
     },
     "execution_count": 81,
     "metadata": {},
     "output_type": "execute_result"
    }
   ],
   "source": [
    "df.shape"
   ]
  },
  {
   "cell_type": "code",
   "execution_count": 82,
   "id": "5480108e",
   "metadata": {
    "scrolled": true
   },
   "outputs": [
    {
     "data": {
      "text/plain": [
       "object     24\n",
       "float64    17\n",
       "int64       2\n",
       "dtype: int64"
      ]
     },
     "execution_count": 82,
     "metadata": {},
     "output_type": "execute_result"
    }
   ],
   "source": [
    "df.dtypes.value_counts()"
   ]
  },
  {
   "cell_type": "markdown",
   "id": "f73e8214",
   "metadata": {},
   "source": [
    "#### Renaming the columns"
   ]
  },
  {
   "cell_type": "code",
   "execution_count": 83,
   "id": "1e48bccd",
   "metadata": {},
   "outputs": [],
   "source": [
    "coffee = df.copy()"
   ]
  },
  {
   "cell_type": "code",
   "execution_count": 84,
   "id": "ec85a7b2",
   "metadata": {},
   "outputs": [
    {
     "data": {
      "text/html": [
       "<div>\n",
       "<style scoped>\n",
       "    .dataframe tbody tr th:only-of-type {\n",
       "        vertical-align: middle;\n",
       "    }\n",
       "\n",
       "    .dataframe tbody tr th {\n",
       "        vertical-align: top;\n",
       "    }\n",
       "\n",
       "    .dataframe thead th {\n",
       "        text-align: right;\n",
       "    }\n",
       "</style>\n",
       "<table border=\"1\" class=\"dataframe\">\n",
       "  <thead>\n",
       "    <tr style=\"text-align: right;\">\n",
       "      <th></th>\n",
       "      <th>Species</th>\n",
       "      <th>Owner</th>\n",
       "      <th>Country.of.Origin</th>\n",
       "      <th>Farm.Name</th>\n",
       "      <th>Lot.Number</th>\n",
       "      <th>Mill</th>\n",
       "      <th>ICO.Number</th>\n",
       "      <th>Company</th>\n",
       "      <th>Altitude</th>\n",
       "      <th>Region</th>\n",
       "      <th>Producer</th>\n",
       "      <th>Number.of.Bags</th>\n",
       "      <th>Bag.Weight</th>\n",
       "      <th>In.Country.Partner</th>\n",
       "      <th>Harvest.Year</th>\n",
       "      <th>Grading.Date</th>\n",
       "      <th>Owner.1</th>\n",
       "      <th>Variety</th>\n",
       "      <th>Processing.Method</th>\n",
       "      <th>Aroma</th>\n",
       "      <th>Flavor</th>\n",
       "      <th>Aftertaste</th>\n",
       "      <th>Acidity</th>\n",
       "      <th>Body</th>\n",
       "      <th>Balance</th>\n",
       "      <th>Uniformity</th>\n",
       "      <th>Clean.Cup</th>\n",
       "      <th>Sweetness</th>\n",
       "      <th>Cupper.Points</th>\n",
       "      <th>Total.Cup.Points</th>\n",
       "      <th>Moisture</th>\n",
       "      <th>Category.One.Defects</th>\n",
       "      <th>Quakers</th>\n",
       "      <th>Color</th>\n",
       "      <th>Category.Two.Defects</th>\n",
       "      <th>Expiration</th>\n",
       "      <th>Certification.Body</th>\n",
       "      <th>Certification.Address</th>\n",
       "      <th>Certification.Contact</th>\n",
       "      <th>unit_of_measurement</th>\n",
       "      <th>altitude_low_meters</th>\n",
       "      <th>altitude_high_meters</th>\n",
       "      <th>altitude_mean_meters</th>\n",
       "    </tr>\n",
       "  </thead>\n",
       "  <tbody>\n",
       "    <tr>\n",
       "      <th>0</th>\n",
       "      <td>Arabica</td>\n",
       "      <td>metad plc</td>\n",
       "      <td>Ethiopia</td>\n",
       "      <td>metad plc</td>\n",
       "      <td>NaN</td>\n",
       "      <td>metad plc</td>\n",
       "      <td>2014/2015</td>\n",
       "      <td>metad agricultural developmet plc</td>\n",
       "      <td>1950-2200</td>\n",
       "      <td>guji-hambela</td>\n",
       "      <td>METAD PLC</td>\n",
       "      <td>300.0</td>\n",
       "      <td>60 kg</td>\n",
       "      <td>METAD Agricultural Development plc</td>\n",
       "      <td>2014</td>\n",
       "      <td>April 4th, 2015</td>\n",
       "      <td>metad plc</td>\n",
       "      <td>NaN</td>\n",
       "      <td>Washed / Wet</td>\n",
       "      <td>8.67</td>\n",
       "      <td>8.83</td>\n",
       "      <td>8.67</td>\n",
       "      <td>8.75</td>\n",
       "      <td>8.50</td>\n",
       "      <td>8.42</td>\n",
       "      <td>10.0</td>\n",
       "      <td>10.0</td>\n",
       "      <td>10.0</td>\n",
       "      <td>8.75</td>\n",
       "      <td>90.58</td>\n",
       "      <td>0.12</td>\n",
       "      <td>0</td>\n",
       "      <td>0.0</td>\n",
       "      <td>Green</td>\n",
       "      <td>0</td>\n",
       "      <td>April 3rd, 2016</td>\n",
       "      <td>METAD Agricultural Development plc</td>\n",
       "      <td>309fcf77415a3661ae83e027f7e5f05dad786e44</td>\n",
       "      <td>19fef5a731de2db57d16da10287413f5f99bc2dd</td>\n",
       "      <td>m</td>\n",
       "      <td>1950.0</td>\n",
       "      <td>2200.0</td>\n",
       "      <td>2075.0</td>\n",
       "    </tr>\n",
       "    <tr>\n",
       "      <th>1</th>\n",
       "      <td>Arabica</td>\n",
       "      <td>metad plc</td>\n",
       "      <td>Ethiopia</td>\n",
       "      <td>metad plc</td>\n",
       "      <td>NaN</td>\n",
       "      <td>metad plc</td>\n",
       "      <td>2014/2015</td>\n",
       "      <td>metad agricultural developmet plc</td>\n",
       "      <td>1950-2200</td>\n",
       "      <td>guji-hambela</td>\n",
       "      <td>METAD PLC</td>\n",
       "      <td>300.0</td>\n",
       "      <td>60 kg</td>\n",
       "      <td>METAD Agricultural Development plc</td>\n",
       "      <td>2014</td>\n",
       "      <td>April 4th, 2015</td>\n",
       "      <td>metad plc</td>\n",
       "      <td>Other</td>\n",
       "      <td>Washed / Wet</td>\n",
       "      <td>8.75</td>\n",
       "      <td>8.67</td>\n",
       "      <td>8.50</td>\n",
       "      <td>8.58</td>\n",
       "      <td>8.42</td>\n",
       "      <td>8.42</td>\n",
       "      <td>10.0</td>\n",
       "      <td>10.0</td>\n",
       "      <td>10.0</td>\n",
       "      <td>8.58</td>\n",
       "      <td>89.92</td>\n",
       "      <td>0.12</td>\n",
       "      <td>0</td>\n",
       "      <td>0.0</td>\n",
       "      <td>Green</td>\n",
       "      <td>1</td>\n",
       "      <td>April 3rd, 2016</td>\n",
       "      <td>METAD Agricultural Development plc</td>\n",
       "      <td>309fcf77415a3661ae83e027f7e5f05dad786e44</td>\n",
       "      <td>19fef5a731de2db57d16da10287413f5f99bc2dd</td>\n",
       "      <td>m</td>\n",
       "      <td>1950.0</td>\n",
       "      <td>2200.0</td>\n",
       "      <td>2075.0</td>\n",
       "    </tr>\n",
       "    <tr>\n",
       "      <th>2</th>\n",
       "      <td>Arabica</td>\n",
       "      <td>grounds for health admin</td>\n",
       "      <td>Guatemala</td>\n",
       "      <td>san marcos barrancas \"san cristobal cuch</td>\n",
       "      <td>NaN</td>\n",
       "      <td>NaN</td>\n",
       "      <td>NaN</td>\n",
       "      <td>NaN</td>\n",
       "      <td>1600 - 1800 m</td>\n",
       "      <td>NaN</td>\n",
       "      <td>NaN</td>\n",
       "      <td>5.0</td>\n",
       "      <td>1</td>\n",
       "      <td>Specialty Coffee Association</td>\n",
       "      <td>NaN</td>\n",
       "      <td>May 31st, 2010</td>\n",
       "      <td>Grounds for Health Admin</td>\n",
       "      <td>Bourbon</td>\n",
       "      <td>NaN</td>\n",
       "      <td>8.42</td>\n",
       "      <td>8.50</td>\n",
       "      <td>8.42</td>\n",
       "      <td>8.42</td>\n",
       "      <td>8.33</td>\n",
       "      <td>8.42</td>\n",
       "      <td>10.0</td>\n",
       "      <td>10.0</td>\n",
       "      <td>10.0</td>\n",
       "      <td>9.25</td>\n",
       "      <td>89.75</td>\n",
       "      <td>0.00</td>\n",
       "      <td>0</td>\n",
       "      <td>0.0</td>\n",
       "      <td>NaN</td>\n",
       "      <td>0</td>\n",
       "      <td>May 31st, 2011</td>\n",
       "      <td>Specialty Coffee Association</td>\n",
       "      <td>36d0d00a3724338ba7937c52a378d085f2172daa</td>\n",
       "      <td>0878a7d4b9d35ddbf0fe2ce69a2062cceb45a660</td>\n",
       "      <td>m</td>\n",
       "      <td>1600.0</td>\n",
       "      <td>1800.0</td>\n",
       "      <td>1700.0</td>\n",
       "    </tr>\n",
       "    <tr>\n",
       "      <th>3</th>\n",
       "      <td>Arabica</td>\n",
       "      <td>yidnekachew dabessa</td>\n",
       "      <td>Ethiopia</td>\n",
       "      <td>yidnekachew dabessa coffee plantation</td>\n",
       "      <td>NaN</td>\n",
       "      <td>wolensu</td>\n",
       "      <td>NaN</td>\n",
       "      <td>yidnekachew debessa coffee plantation</td>\n",
       "      <td>1800-2200</td>\n",
       "      <td>oromia</td>\n",
       "      <td>Yidnekachew Dabessa Coffee Plantation</td>\n",
       "      <td>320.0</td>\n",
       "      <td>60 kg</td>\n",
       "      <td>METAD Agricultural Development plc</td>\n",
       "      <td>2014</td>\n",
       "      <td>March 26th, 2015</td>\n",
       "      <td>Yidnekachew Dabessa</td>\n",
       "      <td>NaN</td>\n",
       "      <td>Natural / Dry</td>\n",
       "      <td>8.17</td>\n",
       "      <td>8.58</td>\n",
       "      <td>8.42</td>\n",
       "      <td>8.42</td>\n",
       "      <td>8.50</td>\n",
       "      <td>8.25</td>\n",
       "      <td>10.0</td>\n",
       "      <td>10.0</td>\n",
       "      <td>10.0</td>\n",
       "      <td>8.67</td>\n",
       "      <td>89.00</td>\n",
       "      <td>0.11</td>\n",
       "      <td>0</td>\n",
       "      <td>0.0</td>\n",
       "      <td>Green</td>\n",
       "      <td>2</td>\n",
       "      <td>March 25th, 2016</td>\n",
       "      <td>METAD Agricultural Development plc</td>\n",
       "      <td>309fcf77415a3661ae83e027f7e5f05dad786e44</td>\n",
       "      <td>19fef5a731de2db57d16da10287413f5f99bc2dd</td>\n",
       "      <td>m</td>\n",
       "      <td>1800.0</td>\n",
       "      <td>2200.0</td>\n",
       "      <td>2000.0</td>\n",
       "    </tr>\n",
       "    <tr>\n",
       "      <th>4</th>\n",
       "      <td>Arabica</td>\n",
       "      <td>metad plc</td>\n",
       "      <td>Ethiopia</td>\n",
       "      <td>metad plc</td>\n",
       "      <td>NaN</td>\n",
       "      <td>metad plc</td>\n",
       "      <td>2014/2015</td>\n",
       "      <td>metad agricultural developmet plc</td>\n",
       "      <td>1950-2200</td>\n",
       "      <td>guji-hambela</td>\n",
       "      <td>METAD PLC</td>\n",
       "      <td>300.0</td>\n",
       "      <td>60 kg</td>\n",
       "      <td>METAD Agricultural Development plc</td>\n",
       "      <td>2014</td>\n",
       "      <td>April 4th, 2015</td>\n",
       "      <td>metad plc</td>\n",
       "      <td>Other</td>\n",
       "      <td>Washed / Wet</td>\n",
       "      <td>8.25</td>\n",
       "      <td>8.50</td>\n",
       "      <td>8.25</td>\n",
       "      <td>8.50</td>\n",
       "      <td>8.42</td>\n",
       "      <td>8.33</td>\n",
       "      <td>10.0</td>\n",
       "      <td>10.0</td>\n",
       "      <td>10.0</td>\n",
       "      <td>8.58</td>\n",
       "      <td>88.83</td>\n",
       "      <td>0.12</td>\n",
       "      <td>0</td>\n",
       "      <td>0.0</td>\n",
       "      <td>Green</td>\n",
       "      <td>2</td>\n",
       "      <td>April 3rd, 2016</td>\n",
       "      <td>METAD Agricultural Development plc</td>\n",
       "      <td>309fcf77415a3661ae83e027f7e5f05dad786e44</td>\n",
       "      <td>19fef5a731de2db57d16da10287413f5f99bc2dd</td>\n",
       "      <td>m</td>\n",
       "      <td>1950.0</td>\n",
       "      <td>2200.0</td>\n",
       "      <td>2075.0</td>\n",
       "    </tr>\n",
       "  </tbody>\n",
       "</table>\n",
       "</div>"
      ],
      "text/plain": [
       "   Species                     Owner Country.of.Origin  \\\n",
       "0  Arabica                 metad plc          Ethiopia   \n",
       "1  Arabica                 metad plc          Ethiopia   \n",
       "2  Arabica  grounds for health admin         Guatemala   \n",
       "3  Arabica       yidnekachew dabessa          Ethiopia   \n",
       "4  Arabica                 metad plc          Ethiopia   \n",
       "\n",
       "                                  Farm.Name Lot.Number       Mill ICO.Number  \\\n",
       "0                                 metad plc        NaN  metad plc  2014/2015   \n",
       "1                                 metad plc        NaN  metad plc  2014/2015   \n",
       "2  san marcos barrancas \"san cristobal cuch        NaN        NaN        NaN   \n",
       "3     yidnekachew dabessa coffee plantation        NaN    wolensu        NaN   \n",
       "4                                 metad plc        NaN  metad plc  2014/2015   \n",
       "\n",
       "                                 Company       Altitude        Region  \\\n",
       "0      metad agricultural developmet plc      1950-2200  guji-hambela   \n",
       "1      metad agricultural developmet plc      1950-2200  guji-hambela   \n",
       "2                                    NaN  1600 - 1800 m           NaN   \n",
       "3  yidnekachew debessa coffee plantation      1800-2200        oromia   \n",
       "4      metad agricultural developmet plc      1950-2200  guji-hambela   \n",
       "\n",
       "                                Producer  Number.of.Bags Bag.Weight  \\\n",
       "0                              METAD PLC           300.0      60 kg   \n",
       "1                              METAD PLC           300.0      60 kg   \n",
       "2                                    NaN             5.0          1   \n",
       "3  Yidnekachew Dabessa Coffee Plantation           320.0      60 kg   \n",
       "4                              METAD PLC           300.0      60 kg   \n",
       "\n",
       "                   In.Country.Partner Harvest.Year      Grading.Date  \\\n",
       "0  METAD Agricultural Development plc         2014   April 4th, 2015   \n",
       "1  METAD Agricultural Development plc         2014   April 4th, 2015   \n",
       "2        Specialty Coffee Association          NaN    May 31st, 2010   \n",
       "3  METAD Agricultural Development plc         2014  March 26th, 2015   \n",
       "4  METAD Agricultural Development plc         2014   April 4th, 2015   \n",
       "\n",
       "                    Owner.1  Variety Processing.Method  Aroma  Flavor  \\\n",
       "0                 metad plc      NaN      Washed / Wet   8.67    8.83   \n",
       "1                 metad plc    Other      Washed / Wet   8.75    8.67   \n",
       "2  Grounds for Health Admin  Bourbon               NaN   8.42    8.50   \n",
       "3       Yidnekachew Dabessa      NaN     Natural / Dry   8.17    8.58   \n",
       "4                 metad plc    Other      Washed / Wet   8.25    8.50   \n",
       "\n",
       "   Aftertaste  Acidity  Body  Balance  Uniformity  Clean.Cup  Sweetness  \\\n",
       "0        8.67     8.75  8.50     8.42        10.0       10.0       10.0   \n",
       "1        8.50     8.58  8.42     8.42        10.0       10.0       10.0   \n",
       "2        8.42     8.42  8.33     8.42        10.0       10.0       10.0   \n",
       "3        8.42     8.42  8.50     8.25        10.0       10.0       10.0   \n",
       "4        8.25     8.50  8.42     8.33        10.0       10.0       10.0   \n",
       "\n",
       "   Cupper.Points  Total.Cup.Points  Moisture  Category.One.Defects  Quakers  \\\n",
       "0           8.75             90.58      0.12                     0      0.0   \n",
       "1           8.58             89.92      0.12                     0      0.0   \n",
       "2           9.25             89.75      0.00                     0      0.0   \n",
       "3           8.67             89.00      0.11                     0      0.0   \n",
       "4           8.58             88.83      0.12                     0      0.0   \n",
       "\n",
       "   Color  Category.Two.Defects        Expiration  \\\n",
       "0  Green                     0   April 3rd, 2016   \n",
       "1  Green                     1   April 3rd, 2016   \n",
       "2    NaN                     0    May 31st, 2011   \n",
       "3  Green                     2  March 25th, 2016   \n",
       "4  Green                     2   April 3rd, 2016   \n",
       "\n",
       "                   Certification.Body  \\\n",
       "0  METAD Agricultural Development plc   \n",
       "1  METAD Agricultural Development plc   \n",
       "2        Specialty Coffee Association   \n",
       "3  METAD Agricultural Development plc   \n",
       "4  METAD Agricultural Development plc   \n",
       "\n",
       "                      Certification.Address  \\\n",
       "0  309fcf77415a3661ae83e027f7e5f05dad786e44   \n",
       "1  309fcf77415a3661ae83e027f7e5f05dad786e44   \n",
       "2  36d0d00a3724338ba7937c52a378d085f2172daa   \n",
       "3  309fcf77415a3661ae83e027f7e5f05dad786e44   \n",
       "4  309fcf77415a3661ae83e027f7e5f05dad786e44   \n",
       "\n",
       "                      Certification.Contact unit_of_measurement  \\\n",
       "0  19fef5a731de2db57d16da10287413f5f99bc2dd                   m   \n",
       "1  19fef5a731de2db57d16da10287413f5f99bc2dd                   m   \n",
       "2  0878a7d4b9d35ddbf0fe2ce69a2062cceb45a660                   m   \n",
       "3  19fef5a731de2db57d16da10287413f5f99bc2dd                   m   \n",
       "4  19fef5a731de2db57d16da10287413f5f99bc2dd                   m   \n",
       "\n",
       "   altitude_low_meters  altitude_high_meters  altitude_mean_meters  \n",
       "0               1950.0                2200.0                2075.0  \n",
       "1               1950.0                2200.0                2075.0  \n",
       "2               1600.0                1800.0                1700.0  \n",
       "3               1800.0                2200.0                2000.0  \n",
       "4               1950.0                2200.0                2075.0  "
      ]
     },
     "execution_count": 84,
     "metadata": {},
     "output_type": "execute_result"
    }
   ],
   "source": [
    "\n",
    "coffee.head()"
   ]
  },
  {
   "cell_type": "code",
   "execution_count": 85,
   "id": "f8752b5d",
   "metadata": {
    "scrolled": true
   },
   "outputs": [],
   "source": [
    "for col in coffee.columns:\n",
    "    # Split the column name at '.' and join with '_'\n",
    "    new_col_name = col.replace('.', '_')\n",
    "    \n",
    "    # Rename the column in place\n",
    "    coffee.rename(columns={col: new_col_name}, inplace=True)\n"
   ]
  },
  {
   "cell_type": "code",
   "execution_count": 86,
   "id": "f975c3b3",
   "metadata": {
    "scrolled": true
   },
   "outputs": [
    {
     "data": {
      "text/plain": [
       "Lot_Number              1063\n",
       "Farm_Name                359\n",
       "Mill                     318\n",
       "Producer                 232\n",
       "altitude_mean_meters     230\n",
       "altitude_high_meters     230\n",
       "altitude_low_meters      230\n",
       "Variety                  226\n",
       "Altitude                 226\n",
       "Color                    218\n",
       "Company                  209\n",
       "Processing_Method        170\n",
       "ICO_Number               157\n",
       "Region                    59\n",
       "Harvest_Year              47\n",
       "Owner_1                    7\n",
       "Owner                      7\n",
       "Number_of_Bags             1\n",
       "Country_of_Origin          1\n",
       "Quakers                    1\n",
       "dtype: int64"
      ]
     },
     "execution_count": 86,
     "metadata": {},
     "output_type": "execute_result"
    }
   ],
   "source": [
    "null_val_col_wise = (coffee.isna().sum().sort_values(ascending=False).head(20))\n",
    "\n",
    "null_val_col_wise"
   ]
  },
  {
   "cell_type": "code",
   "execution_count": 87,
   "id": "204acb52",
   "metadata": {},
   "outputs": [],
   "source": [
    "percentage_null = pd.Series(dtype=float)\n",
    "for key,val in null_val_col_wise.items():\n",
    "\n",
    "    percentage_null[key] = (null_val_col_wise[key]/df.shape[0] *100).round(2)"
   ]
  },
  {
   "cell_type": "code",
   "execution_count": 88,
   "id": "2062fc43",
   "metadata": {
    "scrolled": true
   },
   "outputs": [
    {
     "data": {
      "text/plain": [
       "Lot_Number              79.39\n",
       "Farm_Name               26.81\n",
       "Mill                    23.75\n",
       "Producer                17.33\n",
       "altitude_mean_meters    17.18\n",
       "altitude_high_meters    17.18\n",
       "altitude_low_meters     17.18\n",
       "Variety                 16.88\n",
       "Altitude                16.88\n",
       "Color                   16.28\n",
       "Company                 15.61\n",
       "Processing_Method       12.70\n",
       "ICO_Number              11.73\n",
       "Region                   4.41\n",
       "Harvest_Year             3.51\n",
       "Owner_1                  0.52\n",
       "Owner                    0.52\n",
       "Number_of_Bags           0.07\n",
       "Country_of_Origin        0.07\n",
       "Quakers                  0.07\n",
       "dtype: float64"
      ]
     },
     "execution_count": 88,
     "metadata": {},
     "output_type": "execute_result"
    }
   ],
   "source": [
    "percentage_null"
   ]
  },
  {
   "cell_type": "code",
   "execution_count": 89,
   "id": "c35ed5c8",
   "metadata": {},
   "outputs": [],
   "source": [
    "coffee = coffee.dropna(subset = [col for col in percentage_null.index if percentage_null[col] < 5])"
   ]
  },
  {
   "cell_type": "markdown",
   "id": "054daa6d",
   "metadata": {},
   "source": [
    "Dropping data where less than 5% are missing values"
   ]
  },
  {
   "cell_type": "markdown",
   "id": "d90784d8",
   "metadata": {},
   "source": [
    "Dropping lot number as 79 percent values are missing"
   ]
  },
  {
   "cell_type": "code",
   "execution_count": 90,
   "id": "95aa1efa",
   "metadata": {},
   "outputs": [],
   "source": [
    "coffee.drop(columns  = ['Lot_Number'],axis = 1,inplace = True)"
   ]
  },
  {
   "cell_type": "code",
   "execution_count": 91,
   "id": "b8fbfbac",
   "metadata": {
    "scrolled": true
   },
   "outputs": [
    {
     "data": {
      "text/plain": [
       "Farm_Name               300\n",
       "Mill                    253\n",
       "Color                   171\n",
       "Producer                170\n",
       "Company                 163\n",
       "Variety                 159\n",
       "altitude_mean_meters    157\n",
       "altitude_high_meters    157\n",
       "altitude_low_meters     157\n",
       "Altitude                153\n",
       "ICO_Number              126\n",
       "Processing_Method       119\n",
       "Cupper_Points             0\n",
       "Total_Cup_Points          0\n",
       "Moisture                  0\n",
       "dtype: int64"
      ]
     },
     "execution_count": 91,
     "metadata": {},
     "output_type": "execute_result"
    }
   ],
   "source": [
    "coffee.isna().sum().sort_values(ascending = False).head(15)"
   ]
  },
  {
   "cell_type": "code",
   "execution_count": 92,
   "id": "5bf11707",
   "metadata": {},
   "outputs": [
    {
     "data": {
      "text/plain": [
       "(1242, 42)"
      ]
     },
     "execution_count": 92,
     "metadata": {},
     "output_type": "execute_result"
    }
   ],
   "source": [
    "coffee.shape"
   ]
  },
  {
   "cell_type": "code",
   "execution_count": 93,
   "id": "49f3b810",
   "metadata": {},
   "outputs": [
    {
     "data": {
      "text/plain": [
       "True"
      ]
     },
     "execution_count": 93,
     "metadata": {},
     "output_type": "execute_result"
    }
   ],
   "source": [
    "coffee['Color'].isna().any()"
   ]
  },
  {
   "cell_type": "code",
   "execution_count": 94,
   "id": "71e7cda8",
   "metadata": {},
   "outputs": [
    {
     "data": {
      "text/plain": [
       "dtype('O')"
      ]
     },
     "execution_count": 94,
     "metadata": {},
     "output_type": "execute_result"
    }
   ],
   "source": [
    "coffee['Color'].dtype"
   ]
  },
  {
   "cell_type": "code",
   "execution_count": 95,
   "id": "2815b7b7",
   "metadata": {
    "scrolled": true
   },
   "outputs": [
    {
     "data": {
      "image/png": "[encoded data removed]",
      "text/plain": [
       "<Figure size 800x1200 with 3 Axes>"
      ]
     },
     "metadata": {},
     "output_type": "display_data"
    }
   ],
   "source": [
    "# cols_with_na = [col for col in coffee.columns if coffee[col].isna().any() and pd.api.types.is_numeric_dtype(coffee[col])\n",
    "cols_with_na = [col for col in coffee.select_dtypes(include=['number']).columns if coffee[col].isna().any()]\n",
    "\n",
    "# Create subplots for each column\n",
    "fig, axes = plt.subplots(len(cols_with_na), 1, figsize=(8, 4 * len(cols_with_na)))\n",
    "\n",
    "if len(cols_with_na) == 1:\n",
    "    axes = [axes]  # Make axes iterable for a single plot\n",
    "\n",
    "# Plotting\n",
    "for ax, col in zip(axes, cols_with_na):\n",
    "    sns.histplot(coffee[col], kde=True, ax=ax)\n",
    "    ax.set_title(f'{col} - Numeric Distribution')\n",
    "\n",
    "plt.tight_layout()\n",
    "plt.show()"
   ]
  },
  {
   "cell_type": "markdown",
   "id": "bc3e5e9e",
   "metadata": {},
   "source": [
    "#### Choosing median imputation as the data is right skewed"
   ]
  },
  {
   "cell_type": "code",
   "execution_count": 96,
   "id": "1b812d59",
   "metadata": {
    "scrolled": true
   },
   "outputs": [
    {
     "data": {
      "text/plain": [
       "Species                    0\n",
       "Owner                      0\n",
       "Country_of_Origin          0\n",
       "Farm_Name                300\n",
       "Mill                     253\n",
       "ICO_Number               126\n",
       "Company                  163\n",
       "Altitude                 153\n",
       "Region                     0\n",
       "Producer                 170\n",
       "Number_of_Bags             0\n",
       "Bag_Weight                 0\n",
       "In_Country_Partner         0\n",
       "Harvest_Year               0\n",
       "Grading_Date               0\n",
       "Owner_1                    0\n",
       "Variety                  159\n",
       "Processing_Method        119\n",
       "Aroma                      0\n",
       "Flavor                     0\n",
       "Aftertaste                 0\n",
       "Acidity                    0\n",
       "Body                       0\n",
       "Balance                    0\n",
       "Uniformity                 0\n",
       "Clean_Cup                  0\n",
       "Sweetness                  0\n",
       "Cupper_Points              0\n",
       "Total_Cup_Points           0\n",
       "Moisture                   0\n",
       "Category_One_Defects       0\n",
       "Quakers                    0\n",
       "Color                    171\n",
       "Category_Two_Defects       0\n",
       "Expiration                 0\n",
       "Certification_Body         0\n",
       "Certification_Address      0\n",
       "Certification_Contact      0\n",
       "unit_of_measurement        0\n",
       "altitude_low_meters      157\n",
       "altitude_high_meters     157\n",
       "altitude_mean_meters     157\n",
       "dtype: int64"
      ]
     },
     "execution_count": 96,
     "metadata": {},
     "output_type": "execute_result"
    }
   ],
   "source": [
    "coffee.isna().sum()"
   ]
  },
  {
   "cell_type": "code",
   "execution_count": 97,
   "id": "9d89e90c",
   "metadata": {},
   "outputs": [],
   "source": [
    "# Select numeric columns with missing values\n",
    "numeric_cols_with_na = coffee.select_dtypes(include=['number']).columns\n",
    "\n",
    "# Fill missing values with the median for each column\n",
    "for col in numeric_cols_with_na:\n",
    "    if coffee[col].isna().any():  # Check for missing values\n",
    "        coffee.loc[:, col] = coffee[col].fillna(coffee[col].median())\n"
   ]
  },
  {
   "cell_type": "code",
   "execution_count": 98,
   "id": "15d3b933",
   "metadata": {},
   "outputs": [],
   "source": [
    "cat_cols_with_na = coffee.select_dtypes(include=['object']).columns[\n",
    "    coffee.select_dtypes(include=['object']).isna().any().values\n",
    "]\n",
    "\n",
    "for col in cat_cols_with_na:\n",
    "    coffee.loc[:, col] = coffee[col].fillna(coffee[col].mode()[0])\n",
    "\n"
   ]
  },
  {
   "cell_type": "code",
   "execution_count": 99,
   "id": "48110ca7",
   "metadata": {
    "scrolled": true
   },
   "outputs": [
    {
     "data": {
      "text/plain": [
       "Species                  0\n",
       "Owner                    0\n",
       "Country_of_Origin        0\n",
       "Farm_Name                0\n",
       "Mill                     0\n",
       "ICO_Number               0\n",
       "Company                  0\n",
       "Altitude                 0\n",
       "Region                   0\n",
       "Producer                 0\n",
       "Number_of_Bags           0\n",
       "Bag_Weight               0\n",
       "In_Country_Partner       0\n",
       "Harvest_Year             0\n",
       "Grading_Date             0\n",
       "Owner_1                  0\n",
       "Variety                  0\n",
       "Processing_Method        0\n",
       "Aroma                    0\n",
       "Flavor                   0\n",
       "Aftertaste               0\n",
       "Acidity                  0\n",
       "Body                     0\n",
       "Balance                  0\n",
       "Uniformity               0\n",
       "Clean_Cup                0\n",
       "Sweetness                0\n",
       "Cupper_Points            0\n",
       "Total_Cup_Points         0\n",
       "Moisture                 0\n",
       "Category_One_Defects     0\n",
       "Quakers                  0\n",
       "Color                    0\n",
       "Category_Two_Defects     0\n",
       "Expiration               0\n",
       "Certification_Body       0\n",
       "Certification_Address    0\n",
       "Certification_Contact    0\n",
       "unit_of_measurement      0\n",
       "altitude_low_meters      0\n",
       "altitude_high_meters     0\n",
       "altitude_mean_meters     0\n",
       "dtype: int64"
      ]
     },
     "execution_count": 99,
     "metadata": {},
     "output_type": "execute_result"
    }
   ],
   "source": [
    "coffee.isna().sum()"
   ]
  },
  {
   "cell_type": "code",
   "execution_count": 100,
   "id": "285c10e2",
   "metadata": {
    "scrolled": true
   },
   "outputs": [
    {
     "name": "stdout",
     "output_type": "stream",
     "text": [
      "<class 'pandas.core.frame.DataFrame'>\n",
      "Int64Index: 1242 entries, 0 to 1336\n",
      "Data columns (total 42 columns):\n",
      " #   Column                 Non-Null Count  Dtype  \n",
      "---  ------                 --------------  -----  \n",
      " 0   Species                1242 non-null   object \n",
      " 1   Owner                  1242 non-null   object \n",
      " 2   Country_of_Origin      1242 non-null   object \n",
      " 3   Farm_Name              1242 non-null   object \n",
      " 4   Mill                   1242 non-null   object \n",
      " 5   ICO_Number             1242 non-null   object \n",
      " 6   Company                1242 non-null   object \n",
      " 7   Altitude               1242 non-null   object \n",
      " 8   Region                 1242 non-null   object \n",
      " 9   Producer               1242 non-null   object \n",
      " 10  Number_of_Bags         1242 non-null   float64\n",
      " 11  Bag_Weight             1242 non-null   object \n",
      " 12  In_Country_Partner     1242 non-null   object \n",
      " 13  Harvest_Year           1242 non-null   object \n",
      " 14  Grading_Date           1242 non-null   object \n",
      " 15  Owner_1                1242 non-null   object \n",
      " 16  Variety                1242 non-null   object \n",
      " 17  Processing_Method      1242 non-null   object \n",
      " 18  Aroma                  1242 non-null   float64\n",
      " 19  Flavor                 1242 non-null   float64\n",
      " 20  Aftertaste             1242 non-null   float64\n",
      " 21  Acidity                1242 non-null   float64\n",
      " 22  Body                   1242 non-null   float64\n",
      " 23  Balance                1242 non-null   float64\n",
      " 24  Uniformity             1242 non-null   float64\n",
      " 25  Clean_Cup              1242 non-null   float64\n",
      " 26  Sweetness              1242 non-null   float64\n",
      " 27  Cupper_Points          1242 non-null   float64\n",
      " 28  Total_Cup_Points       1242 non-null   float64\n",
      " 29  Moisture               1242 non-null   float64\n",
      " 30  Category_One_Defects   1242 non-null   int64  \n",
      " 31  Quakers                1242 non-null   float64\n",
      " 32  Color                  1242 non-null   object \n",
      " 33  Category_Two_Defects   1242 non-null   int64  \n",
      " 34  Expiration             1242 non-null   object \n",
      " 35  Certification_Body     1242 non-null   object \n",
      " 36  Certification_Address  1242 non-null   object \n",
      " 37  Certification_Contact  1242 non-null   object \n",
      " 38  unit_of_measurement    1242 non-null   object \n",
      " 39  altitude_low_meters    1242 non-null   float64\n",
      " 40  altitude_high_meters   1242 non-null   float64\n",
      " 41  altitude_mean_meters   1242 non-null   float64\n",
      "dtypes: float64(17), int64(2), object(23)\n",
      "memory usage: 417.2+ KB\n"
     ]
    }
   ],
   "source": [
    "coffee.info()"
   ]
  },
  {
   "cell_type": "markdown",
   "id": "42e49cc3",
   "metadata": {},
   "source": [
    "#### Inspecting unique values"
   ]
  },
  {
   "cell_type": "code",
   "execution_count": 101,
   "id": "46d6b984",
   "metadata": {
    "scrolled": true
   },
   "outputs": [
    {
     "data": {
      "text/plain": [
       "Species                    2\n",
       "Owner                    302\n",
       "Country_of_Origin         35\n",
       "Farm_Name                560\n",
       "Mill                     449\n",
       "ICO_Number               789\n",
       "Company                  271\n",
       "Altitude                 389\n",
       "Region                   351\n",
       "Producer                 669\n",
       "Number_of_Bags           128\n",
       "Bag_Weight                51\n",
       "In_Country_Partner        26\n",
       "Harvest_Year              45\n",
       "Grading_Date             531\n",
       "Owner_1                  305\n",
       "Variety                   29\n",
       "Processing_Method          5\n",
       "Aroma                     36\n",
       "Flavor                    35\n",
       "Aftertaste                35\n",
       "Acidity                   31\n",
       "Body                      33\n",
       "Balance                   33\n",
       "Uniformity                10\n",
       "Clean_Cup                 11\n",
       "Sweetness                 16\n",
       "Cupper_Points             40\n",
       "Total_Cup_Points         173\n",
       "Moisture                  20\n",
       "Category_One_Defects      15\n",
       "Quakers                   11\n",
       "Color                      4\n",
       "Category_Two_Defects      38\n",
       "Expiration               530\n",
       "Certification_Body        25\n",
       "Certification_Address     31\n",
       "Certification_Contact     28\n",
       "unit_of_measurement        2\n",
       "altitude_low_meters      196\n",
       "altitude_high_meters     196\n",
       "altitude_mean_meters     208\n",
       "dtype: int64"
      ]
     },
     "execution_count": 101,
     "metadata": {},
     "output_type": "execute_result"
    }
   ],
   "source": [
    "coffee.nunique()"
   ]
  },
  {
   "cell_type": "markdown",
   "id": "8e562b82",
   "metadata": {},
   "source": [
    "Dropping duplicate values"
   ]
  },
  {
   "cell_type": "code",
   "execution_count": 102,
   "id": "7f71d75e",
   "metadata": {},
   "outputs": [],
   "source": [
    "coffee.drop_duplicates(inplace = True)"
   ]
  },
  {
   "cell_type": "code",
   "execution_count": 103,
   "id": "18fc0d21",
   "metadata": {},
   "outputs": [
    {
     "data": {
      "text/plain": [
       "(1242, 42)"
      ]
     },
     "execution_count": 103,
     "metadata": {},
     "output_type": "execute_result"
    }
   ],
   "source": [
    "coffee.shape # no duplicate was there shape is unchanged"
   ]
  },
  {
   "cell_type": "markdown",
   "id": "ecfb9326",
   "metadata": {},
   "source": [
    "#### Processing datetime Coverting date variables to datetime which are harvest year, grading date, Expiration"
   ]
  },
  {
   "cell_type": "code",
   "execution_count": 104,
   "id": "da3a95be",
   "metadata": {},
   "outputs": [
    {
     "data": {
      "text/html": [
       "<div>\n",
       "<style scoped>\n",
       "    .dataframe tbody tr th:only-of-type {\n",
       "        vertical-align: middle;\n",
       "    }\n",
       "\n",
       "    .dataframe tbody tr th {\n",
       "        vertical-align: top;\n",
       "    }\n",
       "\n",
       "    .dataframe thead th {\n",
       "        text-align: right;\n",
       "    }\n",
       "</style>\n",
       "<table border=\"1\" class=\"dataframe\">\n",
       "  <thead>\n",
       "    <tr style=\"text-align: right;\">\n",
       "      <th></th>\n",
       "      <th>Grading_Date</th>\n",
       "      <th>Expiration</th>\n",
       "    </tr>\n",
       "  </thead>\n",
       "  <tbody>\n",
       "    <tr>\n",
       "      <th>0</th>\n",
       "      <td>April 4th, 2015</td>\n",
       "      <td>April 3rd, 2016</td>\n",
       "    </tr>\n",
       "    <tr>\n",
       "      <th>1</th>\n",
       "      <td>April 4th, 2015</td>\n",
       "      <td>April 3rd, 2016</td>\n",
       "    </tr>\n",
       "    <tr>\n",
       "      <th>3</th>\n",
       "      <td>March 26th, 2015</td>\n",
       "      <td>March 25th, 2016</td>\n",
       "    </tr>\n",
       "    <tr>\n",
       "      <th>4</th>\n",
       "      <td>April 4th, 2015</td>\n",
       "      <td>April 3rd, 2016</td>\n",
       "    </tr>\n",
       "    <tr>\n",
       "      <th>8</th>\n",
       "      <td>September 2nd, 2010</td>\n",
       "      <td>September 2nd, 2011</td>\n",
       "    </tr>\n",
       "  </tbody>\n",
       "</table>\n",
       "</div>"
      ],
      "text/plain": [
       "          Grading_Date           Expiration\n",
       "0      April 4th, 2015      April 3rd, 2016\n",
       "1      April 4th, 2015      April 3rd, 2016\n",
       "3     March 26th, 2015     March 25th, 2016\n",
       "4      April 4th, 2015      April 3rd, 2016\n",
       "8  September 2nd, 2010  September 2nd, 2011"
      ]
     },
     "execution_count": 104,
     "metadata": {},
     "output_type": "execute_result"
    }
   ],
   "source": [
    "# Display side-by-side\n",
    "see_me = pd.concat([coffee['Grading_Date'], coffee['Expiration']], axis=1)\n",
    "\n",
    "see_me.head()\n",
    "# Display side-by-side\n",
    "\n"
   ]
  },
  {
   "cell_type": "code",
   "execution_count": 105,
   "id": "d966b25d",
   "metadata": {},
   "outputs": [],
   "source": [
    "coffee['Harvest_Year'] = pd.to_datetime(coffee['Harvest_Year'], format='%Y', errors='coerce')\n",
    "coffee['Grading_Date'] = pd.to_datetime(coffee['Grading_Date'])\n",
    "coffee['Expiration'] = pd.to_datetime(coffee['Expiration'])\n",
    "\n",
    "coffee['date_diff'] = (coffee['Expiration'] - coffee['Grading_Date']).dt.days\n",
    "# later on i will drop this date diff\n"
   ]
  },
  {
   "cell_type": "code",
   "execution_count": 106,
   "id": "e380be99",
   "metadata": {},
   "outputs": [
    {
     "data": {
      "text/plain": [
       "365    1242\n",
       "Name: date_diff, dtype: int64"
      ]
     },
     "execution_count": 106,
     "metadata": {},
     "output_type": "execute_result"
    }
   ],
   "source": [
    "coffee['date_diff'].value_counts()"
   ]
  },
  {
   "cell_type": "markdown",
   "id": "6c1f88b0",
   "metadata": {},
   "source": [
    "#### The difference between them is 365 days so we can drop one of them i am dropping Expiration"
   ]
  },
  {
   "cell_type": "code",
   "execution_count": 107,
   "id": "c46ac213",
   "metadata": {},
   "outputs": [],
   "source": [
    "coffee.drop(columns = ['Expiration','date_diff'],axis = 1,inplace = True)"
   ]
  },
  {
   "cell_type": "code",
   "execution_count": 108,
   "id": "4840525b",
   "metadata": {},
   "outputs": [
    {
     "ename": "KeyError",
     "evalue": "\"['bag_weigths_kg'] not in index\"",
     "output_type": "error",
     "traceback": [
      "\u001b[1;31m---------------------------------------------------------------------------\u001b[0m",
      "\u001b[1;31mKeyError\u001b[0m                                  Traceback (most recent call last)",
      "\u001b[1;32m~\\AppData\\Local\\Temp\\ipykernel_3404\\338957186.py\u001b[0m in \u001b[0;36m<module>\u001b[1;34m\u001b[0m\n\u001b[1;32m----> 1\u001b[1;33m \u001b[0mcoffee\u001b[0m\u001b[1;33m[\u001b[0m\u001b[0mnum_cols\u001b[0m\u001b[1;33m]\u001b[0m\u001b[1;33m.\u001b[0m\u001b[0mdescribe\u001b[0m\u001b[1;33m(\u001b[0m\u001b[1;33m)\u001b[0m\u001b[1;33m\u001b[0m\u001b[1;33m\u001b[0m\u001b[0m\n\u001b[0m",
      "\u001b[1;32mC:\\ProgramData\\Anaconda3\\lib\\site-packages\\pandas\\core\\frame.py\u001b[0m in \u001b[0;36m__getitem__\u001b[1;34m(self, key)\u001b[0m\n\u001b[0;32m   3509\u001b[0m             \u001b[1;32mif\u001b[0m \u001b[0mis_iterator\u001b[0m\u001b[1;33m(\u001b[0m\u001b[0mkey\u001b[0m\u001b[1;33m)\u001b[0m\u001b[1;33m:\u001b[0m\u001b[1;33m\u001b[0m\u001b[1;33m\u001b[0m\u001b[0m\n\u001b[0;32m   3510\u001b[0m                 \u001b[0mkey\u001b[0m \u001b[1;33m=\u001b[0m \u001b[0mlist\u001b[0m\u001b[1;33m(\u001b[0m\u001b[0mkey\u001b[0m\u001b[1;33m)\u001b[0m\u001b[1;33m\u001b[0m\u001b[1;33m\u001b[0m\u001b[0m\n\u001b[1;32m-> 3511\u001b[1;33m             \u001b[0mindexer\u001b[0m \u001b[1;33m=\u001b[0m \u001b[0mself\u001b[0m\u001b[1;33m.\u001b[0m\u001b[0mcolumns\u001b[0m\u001b[1;33m.\u001b[0m\u001b[0m_get_indexer_strict\u001b[0m\u001b[1;33m(\u001b[0m\u001b[0mkey\u001b[0m\u001b[1;33m,\u001b[0m \u001b[1;34m\"columns\"\u001b[0m\u001b[1;33m)\u001b[0m\u001b[1;33m[\u001b[0m\u001b[1;36m1\u001b[0m\u001b[1;33m]\u001b[0m\u001b[1;33m\u001b[0m\u001b[1;33m\u001b[0m\u001b[0m\n\u001b[0m\u001b[0;32m   3512\u001b[0m \u001b[1;33m\u001b[0m\u001b[0m\n\u001b[0;32m   3513\u001b[0m         \u001b[1;31m# take() does not accept boolean indexers\u001b[0m\u001b[1;33m\u001b[0m\u001b[1;33m\u001b[0m\u001b[0m\n",
      "\u001b[1;32mC:\\ProgramData\\Anaconda3\\lib\\site-packages\\pandas\\core\\indexes\\base.py\u001b[0m in \u001b[0;36m_get_indexer_strict\u001b[1;34m(self, key, axis_name)\u001b[0m\n\u001b[0;32m   5794\u001b[0m             \u001b[0mkeyarr\u001b[0m\u001b[1;33m,\u001b[0m \u001b[0mindexer\u001b[0m\u001b[1;33m,\u001b[0m \u001b[0mnew_indexer\u001b[0m \u001b[1;33m=\u001b[0m \u001b[0mself\u001b[0m\u001b[1;33m.\u001b[0m\u001b[0m_reindex_non_unique\u001b[0m\u001b[1;33m(\u001b[0m\u001b[0mkeyarr\u001b[0m\u001b[1;33m)\u001b[0m\u001b[1;33m\u001b[0m\u001b[1;33m\u001b[0m\u001b[0m\n\u001b[0;32m   5795\u001b[0m \u001b[1;33m\u001b[0m\u001b[0m\n\u001b[1;32m-> 5796\u001b[1;33m         \u001b[0mself\u001b[0m\u001b[1;33m.\u001b[0m\u001b[0m_raise_if_missing\u001b[0m\u001b[1;33m(\u001b[0m\u001b[0mkeyarr\u001b[0m\u001b[1;33m,\u001b[0m \u001b[0mindexer\u001b[0m\u001b[1;33m,\u001b[0m \u001b[0maxis_name\u001b[0m\u001b[1;33m)\u001b[0m\u001b[1;33m\u001b[0m\u001b[1;33m\u001b[0m\u001b[0m\n\u001b[0m\u001b[0;32m   5797\u001b[0m \u001b[1;33m\u001b[0m\u001b[0m\n\u001b[0;32m   5798\u001b[0m         \u001b[0mkeyarr\u001b[0m \u001b[1;33m=\u001b[0m \u001b[0mself\u001b[0m\u001b[1;33m.\u001b[0m\u001b[0mtake\u001b[0m\u001b[1;33m(\u001b[0m\u001b[0mindexer\u001b[0m\u001b[1;33m)\u001b[0m\u001b[1;33m\u001b[0m\u001b[1;33m\u001b[0m\u001b[0m\n",
      "\u001b[1;32mC:\\ProgramData\\Anaconda3\\lib\\site-packages\\pandas\\core\\indexes\\base.py\u001b[0m in \u001b[0;36m_raise_if_missing\u001b[1;34m(self, key, indexer, axis_name)\u001b[0m\n\u001b[0;32m   5857\u001b[0m \u001b[1;33m\u001b[0m\u001b[0m\n\u001b[0;32m   5858\u001b[0m             \u001b[0mnot_found\u001b[0m \u001b[1;33m=\u001b[0m \u001b[0mlist\u001b[0m\u001b[1;33m(\u001b[0m\u001b[0mensure_index\u001b[0m\u001b[1;33m(\u001b[0m\u001b[0mkey\u001b[0m\u001b[1;33m)\u001b[0m\u001b[1;33m[\u001b[0m\u001b[0mmissing_mask\u001b[0m\u001b[1;33m.\u001b[0m\u001b[0mnonzero\u001b[0m\u001b[1;33m(\u001b[0m\u001b[1;33m)\u001b[0m\u001b[1;33m[\u001b[0m\u001b[1;36m0\u001b[0m\u001b[1;33m]\u001b[0m\u001b[1;33m]\u001b[0m\u001b[1;33m.\u001b[0m\u001b[0munique\u001b[0m\u001b[1;33m(\u001b[0m\u001b[1;33m)\u001b[0m\u001b[1;33m)\u001b[0m\u001b[1;33m\u001b[0m\u001b[1;33m\u001b[0m\u001b[0m\n\u001b[1;32m-> 5859\u001b[1;33m             \u001b[1;32mraise\u001b[0m \u001b[0mKeyError\u001b[0m\u001b[1;33m(\u001b[0m\u001b[1;34mf\"{not_found} not in index\"\u001b[0m\u001b[1;33m)\u001b[0m\u001b[1;33m\u001b[0m\u001b[1;33m\u001b[0m\u001b[0m\n\u001b[0m\u001b[0;32m   5860\u001b[0m \u001b[1;33m\u001b[0m\u001b[0m\n\u001b[0;32m   5861\u001b[0m     \u001b[1;33m@\u001b[0m\u001b[0moverload\u001b[0m\u001b[1;33m\u001b[0m\u001b[1;33m\u001b[0m\u001b[0m\n",
      "\u001b[1;31mKeyError\u001b[0m: \"['bag_weigths_kg'] not in index\""
     ]
    }
   ],
   "source": [
    "coffee[num_cols].describe()"
   ]
  },
  {
   "cell_type": "markdown",
   "id": "32ffbfc9",
   "metadata": {},
   "source": [
    "### Univariate analysis of categorical variable I am considering species, country_of_origin , Region , variety, processing method, color as categorical variables directly giving information about coffee beans"
   ]
  },
  {
   "cell_type": "code",
   "execution_count": null,
   "id": "0c792fe1",
   "metadata": {},
   "outputs": [],
   "source": [
    "coffee.sample(5)"
   ]
  },
  {
   "cell_type": "code",
   "execution_count": null,
   "id": "cfae41d9",
   "metadata": {
    "scrolled": false
   },
   "outputs": [],
   "source": [
    "import plotly.express as px\n",
    "\n",
    "# Assuming `coffee` is your DataFrame\n",
    "\n",
    "# List of columns to create pie charts for\n",
    "columns_to_plot = ['Species', 'Country_of_Origin', 'Region', 'Variety', 'Processing_Method', 'Color']\n",
    "\n",
    "# Loop through each column and generate a pie chart\n",
    "for col in columns_to_plot:\n",
    "    counts = coffee[col].value_counts().reset_index()\n",
    "    counts.columns = [col, 'Counts']  # Rename for clarity\n",
    "\n",
    "    # Create the pie chart\n",
    "    fig = px.pie(counts, names=col, values='Counts', title=f'Distribution of {col.capitalize()}')\n",
    "    fig.show()\n"
   ]
  },
  {
   "cell_type": "markdown",
   "id": "e7265c33",
   "metadata": {},
   "source": [
    "Notes:\n",
    "- Species is highly unbalanced with Arabica dominating in numbers\n",
    "- Country of origin is cluttered so i will refine it by making others category same goes for distribution by region\n",
    "- I will take less than 1% as others in country of origin\n",
    "- In region i will make 3 new categories because if i group less than 1% as others it will become the most dominant group\n",
    "- Distribution of variety also cluttered but it already has others category i will make minor_others for those less than 1%\n",
    "- Color has a None value i will make them others as none means null values but in this case it is not\n",
    "\n",
    "\n"
   ]
  },
  {
   "cell_type": "code",
   "execution_count": null,
   "id": "fc6368ac",
   "metadata": {},
   "outputs": [],
   "source": [
    "# making others for country of origin \n",
    "counts = coffee['Country_of_Origin'].value_counts()  # Get counts of each category in 'Variety'\n",
    "rare_categories = counts[counts < 12].index  # Identify categories occurring less than 12 times\n",
    "coffee['Country_of_Origin'] = coffee['Country_of_Origin'].apply(lambda x: 'others' if x in rare_categories else x)\n"
   ]
  },
  {
   "cell_type": "code",
   "execution_count": null,
   "id": "4171c844",
   "metadata": {},
   "outputs": [],
   "source": [
    "# 15-20 -> others_most , 10-14-> others_mid , 1-9 -> others least\n",
    "# counts = coffee['Region'].value_counts()  # Get counts of each category in 'Variety'\n",
    "\n",
    "# rare_categories = counts[(counts <= 20) & (counts >=15)].index  # Identify categories occurring less than 20 times greater than 15\n",
    "# coffee['Region'] = coffee['Region'].apply(lambda x: 'others_most' if x in rare_categories else x)\n",
    "\n",
    "# rare_categories = counts[(counts <= 14) & (counts >=10)].index  \n",
    "# coffee['Region'] = coffee['Region'].apply(lambda x: 'others_mid' if x in rare_categories else x)\n",
    "\n",
    "# rare_categories = counts[(counts <=9)  & (counts >=1)].index \n",
    "# coffee['Region'] = coffee['Region'].apply(lambda x: 'others_least' if x in rare_categories else x)\n"
   ]
  },
  {
   "cell_type": "code",
   "execution_count": null,
   "id": "20e7b18c",
   "metadata": {},
   "outputs": [],
   "source": [
    "# making minor others for variety\n",
    "counts = coffee['Variety'].value_counts()  # Get counts of each category in 'Variety'\n",
    "rare_categories = counts[counts < 12].index  # Identify categories occurring less than 12 times\n",
    "coffee['Variety'] = coffee['Variety'].apply(lambda x: 'minor_others' if x in rare_categories else x)\n"
   ]
  },
  {
   "cell_type": "code",
   "execution_count": null,
   "id": "9532494c",
   "metadata": {},
   "outputs": [],
   "source": [
    "vis = ['Variety','Country_of_Origin','Region']\n",
    "for col in vis:\n",
    "    counts = coffee[col].value_counts().reset_index()\n",
    "    counts.columns = [col, 'Counts']  # Rename for clarity\n",
    "\n",
    "    # Create the pie chart\n",
    "    fig = px.pie(counts, names=col, values='Counts', title=f'Distribution of {col.capitalize()}')\n",
    "    fig.show()\n"
   ]
  },
  {
   "cell_type": "markdown",
   "id": "71fdcdea",
   "metadata": {},
   "source": [
    "others_least became the most that is we should not have done this lol"
   ]
  },
  {
   "cell_type": "markdown",
   "id": "caef2075",
   "metadata": {},
   "source": [
    "#### Getting into text variables these are information about farm metadata"
   ]
  },
  {
   "cell_type": "code",
   "execution_count": null,
   "id": "1aabbd22",
   "metadata": {},
   "outputs": [],
   "source": [
    "text_col = coffee.select_dtypes(include='object').columns\n",
    "text_col = text_col.drop(columns_to_plot)\n",
    "coffee[text_col].describe()"
   ]
  },
  {
   "cell_type": "code",
   "execution_count": null,
   "id": "44448b74",
   "metadata": {},
   "outputs": [],
   "source": [
    "coffee[text_col].head()"
   ]
  },
  {
   "cell_type": "code",
   "execution_count": null,
   "id": "d3c06b89",
   "metadata": {},
   "outputs": [],
   "source": [
    "coffee = coffee.apply(lambda col: col.str.lower() if col.dtype == 'object' else col)\n"
   ]
  },
  {
   "cell_type": "code",
   "execution_count": null,
   "id": "512474e9",
   "metadata": {},
   "outputs": [],
   "source": [
    "coffee[text_col].sample(3)\n"
   ]
  },
  {
   "cell_type": "markdown",
   "id": "a6746c11",
   "metadata": {},
   "source": [
    "#### I can see similarities between owner - owner_1 , Farm name- producer, company- in_country_partener, certification_body - in country partner lets verify that"
   ]
  },
  {
   "cell_type": "code",
   "execution_count": null,
   "id": "dc62150c",
   "metadata": {},
   "outputs": [],
   "source": [
    "print(' owner and owner_1 {} identical rows'.format((coffee['Owner']==coffee['Owner_1']).sum()))\n",
    "print(' Farm_Name and Producer {} identical rows'.format((coffee['Farm_Name']==coffee['Producer']).sum()))\n",
    "print(' Company and In_Country_Partner {} identical rows'.format((coffee['Company']==coffee['In_Country_Partner']).sum()))\n",
    "print(' Certification_Body and In_Country_Partner {} identical rows'.format((coffee['Certification_Body']==coffee['In_Country_Partner']).sum()))\n"
   ]
  },
  {
   "cell_type": "markdown",
   "id": "c2a0640c",
   "metadata": {},
   "source": [
    "- Owner and owner1 are both same so we can drop one of them i am dropping owner \n",
    "- certification body and in country partner are also too much identical so i am dropping in country partner\n",
    "- Farm name - producer and company - in country partner are similar but for a few so leaving them\n",
    "- certification address and certification contact can be used for later locating the company so i am not dropping them but also not considering them as measuring of coffee quality"
   ]
  },
  {
   "cell_type": "code",
   "execution_count": null,
   "id": "a74d354a",
   "metadata": {},
   "outputs": [],
   "source": [
    "coffee.drop(columns = ['Owner_1','In_Country_Partner'],axis = 1,inplace = True)\n",
    "text_col = text_col.drop(['Owner_1','In_Country_Partner','Certification_Address','Certification_Contact'])"
   ]
  },
  {
   "cell_type": "code",
   "execution_count": null,
   "id": "cbef8832",
   "metadata": {
    "scrolled": false
   },
   "outputs": [],
   "source": [
    "coffee[text_col].sample(3)"
   ]
  },
  {
   "cell_type": "markdown",
   "id": "69524af6",
   "metadata": {},
   "source": [
    "The ICO.Number, normally given by the International Coffee Organization(3) to regulate imports and exports of coffee and should follow a certain format (country code (3 figures) - exporter (4 figures) - parcel number(4 figures)), doesn't seem to follow any rules in this dataset and will be treated as a string, as it has no ordinal properties"
   ]
  },
  {
   "cell_type": "code",
   "execution_count": null,
   "id": "23fd1d79",
   "metadata": {
    "scrolled": true
   },
   "outputs": [],
   "source": [
    "# Extracting \"kg or others\" after splitting units and weights\n",
    "units = coffee['Bag_Weight'].apply(lambda x: x.split()[1] if isinstance(x, str) and len(x.split()) > 1 else None)\n",
    "\n",
    "weights = coffee['Bag_Weight'].apply(lambda x: x.split()[0]).astype(float)\n",
    "\n",
    "coffee['bag_weigths_kg'] = weights \n",
    "coffee['bag_units'] = units\n",
    "units.value_counts()\n"
   ]
  },
  {
   "cell_type": "code",
   "execution_count": null,
   "id": "313f401e",
   "metadata": {},
   "outputs": [],
   "source": [
    "1140+79 # earlier it was 1242 so 23 rows deleted but now my bag weight is cleaned just part left is to convert lbs to kgs"
   ]
  },
  {
   "cell_type": "code",
   "execution_count": null,
   "id": "a9ed1aa8",
   "metadata": {},
   "outputs": [],
   "source": [
    "units.isna().sum() # dropping these values and kg, lbs values "
   ]
  },
  {
   "cell_type": "code",
   "execution_count": null,
   "id": "d5b40ced",
   "metadata": {},
   "outputs": [],
   "source": [
    "\n",
    "\n",
    "# Drop rows with NaN values from the 'bag_units' column (i.e., rows with no unit or invalid entries)\n",
    "coffee.dropna(subset=['bag_units'], inplace=True)\n",
    "\n",
    "#  Drop rows where the 'bag_units' value is 'kg,lbs'\n",
    "coffee = coffee[coffee['bag_units'] != 'kg,lbs']\n"
   ]
  },
  {
   "cell_type": "markdown",
   "id": "a76bab43",
   "metadata": {},
   "source": [
    "Converting lbs to kgs , 1 lb = .453 kg"
   ]
  },
  {
   "cell_type": "code",
   "execution_count": null,
   "id": "6d2c3295",
   "metadata": {},
   "outputs": [],
   "source": [
    "coffee['bag_weigths_kg'].dtypes"
   ]
  },
  {
   "cell_type": "code",
   "execution_count": null,
   "id": "7145c024",
   "metadata": {},
   "outputs": [],
   "source": [
    "coffee.head()"
   ]
  },
  {
   "cell_type": "code",
   "execution_count": null,
   "id": "4b8f7c39",
   "metadata": {},
   "outputs": [],
   "source": [
    "coffee['bag_weigths_kg'] = coffee.apply(\n",
    "    lambda row: row['bag_weigths_kg'] * 0.453 if row['bag_units'] == 'lbs' else row['bag_weigths_kg'], axis=1)\n",
    "coffee.drop(columns = ['Bag_Weight','bag_units'],inplace = True)"
   ]
  },
  {
   "cell_type": "code",
   "execution_count": null,
   "id": "52306872",
   "metadata": {},
   "outputs": [],
   "source": [
    "coffee.sample(5)"
   ]
  },
  {
   "cell_type": "markdown",
   "id": "acefb606",
   "metadata": {},
   "source": [
    "coffee['ICO_Number'].nunique()The ICO.Number, normally given by the International Coffee Organization(3) to regulate imports and exports of coffee and should follow a certain format (country code (3 figures) - exporter (4 figures) - parcel number(4 figures)), doesn't seem to follow any rules in this dataset and will be treated as a string, as it has no meaningful info "
   ]
  },
  {
   "cell_type": "markdown",
   "id": "3adeaa19",
   "metadata": {},
   "source": [
    "- Altitude values are not consistent values like 1250m 1600-1800msnm 1400 msnm huanuco etc also there are 3 more altitude columns mean altitude low and high altitude i will remove high low altitude and keep  mean altitude because that contains all info.\n",
    "- Units of measurements is also not required as mean altitude is in meters"
   ]
  },
  {
   "cell_type": "code",
   "execution_count": null,
   "id": "7bf22623",
   "metadata": {},
   "outputs": [],
   "source": [
    "coffee.drop(columns = ['Altitude','altitude_high_meters','altitude_low_meters','unit_of_measurement'],axis = 1,inplace = True)"
   ]
  },
  {
   "cell_type": "code",
   "execution_count": null,
   "id": "18b98b30",
   "metadata": {},
   "outputs": [],
   "source": [
    "coffee.dtypes.value_counts()"
   ]
  },
  {
   "cell_type": "code",
   "execution_count": null,
   "id": "6b46c2d8",
   "metadata": {},
   "outputs": [],
   "source": [
    "num_cols = coffee.select_dtypes(include = ['int','float']).columns\n",
    "num_cols"
   ]
  },
  {
   "cell_type": "code",
   "execution_count": null,
   "id": "c6e14044",
   "metadata": {},
   "outputs": [],
   "source": [
    "coffee[num_cols].sample(5)"
   ]
  },
  {
   "cell_type": "code",
   "execution_count": null,
   "id": "598b7ef6",
   "metadata": {},
   "outputs": [],
   "source": [
    "coffee[num_cols].describe()"
   ]
  },
  {
   "cell_type": "markdown",
   "id": "c337fa48",
   "metadata": {},
   "source": [
    "- There are outliers in number of bags , Aroma, category_two_defects, altitude mean meters, bag_weights_kg\n",
    "- I will create box plot and histogram for all of them to verify outliers and see there distribution"
   ]
  },
  {
   "cell_type": "code",
   "execution_count": null,
   "id": "bd79e00f",
   "metadata": {},
   "outputs": [],
   "source": [
    "def plot_from(value): # it will take an index value from num_cols and plot that and subsequent 3 index values\n",
    "    \n",
    "    fig, ax = plt.subplots(3, 2, figsize=(10, 12))  # 3 rows, 2 columns of subplots\n",
    "    i = 0\n",
    "    ax = ax.flatten()\n",
    "    for col in num_cols[value:value+3]:  # Loop through the first 3 numerical columns\n",
    "        # Histogram\n",
    "        sns.histplot(data=coffee, x=col, ax=ax[i], kde=True)\n",
    "        ax[i].set_title(f'Histogram of {col}')  # Optional title for the histogram\n",
    "        i += 1\n",
    "        # Boxplot\n",
    "        sns.boxplot(data=coffee, x=col, ax=ax[i])\n",
    "        ax[i].set_title(f'Boxplot of {col}')  # Optional title for the boxplot\n",
    "        i += 1\n",
    "\n",
    "    plt.tight_layout()  # To avoid overlapping subplots\n",
    "    plt.show()\n"
   ]
  },
  {
   "cell_type": "code",
   "execution_count": null,
   "id": "57f0c5cc",
   "metadata": {},
   "outputs": [],
   "source": [
    "plot_from(0)"
   ]
  },
  {
   "cell_type": "code",
   "execution_count": null,
   "id": "2ed0d5ff",
   "metadata": {},
   "outputs": [],
   "source": [
    "num_cols"
   ]
  },
  {
   "cell_type": "markdown",
   "id": "9bc68f84",
   "metadata": {},
   "source": [
    "- about skeweness\n",
    "- right skewed ( number of bags, Aroma, altitude mean , category two defects, bag weights in kg\n",
    "- left skewed (flavor, aftertaste, acidity, body,balance, copper points, total cup points\n",
    "\n",
    "- Every column has outliers\n",
    "\n",
    "Look at Uniformity\tClean_Cup\tSweetness Moisture\tCategory_One_Defects\tQuakers\t(8,11) (13,16)"
   ]
  },
  {
   "cell_type": "markdown",
   "id": "048a1aa8",
   "metadata": {},
   "source": [
    "Sweetness, uniformity, clean up have same type of distribution and also they are discrete in nature"
   ]
  },
  {
   "cell_type": "markdown",
   "id": "02ac2510",
   "metadata": {},
   "source": [
    "Quakers and category one defect also follows same type of distribution and also moisture are discrete"
   ]
  },
  {
   "cell_type": "code",
   "execution_count": null,
   "id": "d2127246",
   "metadata": {},
   "outputs": [],
   "source": [
    "discrete = ['Moisture', 'Category_One_Defects', 'Quakers','Uniformity', 'Clean_Cup', 'Sweetness']\n",
    "coffee[discrete].nunique()"
   ]
  },
  {
   "cell_type": "markdown",
   "id": "d186f7ab",
   "metadata": {},
   "source": [
    "### Outlier handling"
   ]
  },
  {
   "cell_type": "markdown",
   "id": "05c6c4ab",
   "metadata": {},
   "source": [
    "#### Every numerical column has outliers as seen from the boxplot \n",
    "- For handling them first i am looking at unrealistic values if there are any \n",
    "- Altitude cannot be more than 4500 otherwise they will be in mountain regions which is not usual \n",
    "- Moisture cannot be zero on earth\n",
    "- zero number of bags is unusual\n"
   ]
  },
  {
   "cell_type": "code",
   "execution_count": null,
   "id": "5b7319ca",
   "metadata": {},
   "outputs": [],
   "source": [
    "coffee[num_cols].sample(4)"
   ]
  },
  {
   "cell_type": "code",
   "execution_count": null,
   "id": "3389977a",
   "metadata": {},
   "outputs": [],
   "source": [
    "very_high_altitude = coffee['altitude_mean_meters'] > 5000 \n",
    "display('{} altitude outliers'.format(very_high_altitude.sum()))\n",
    "coffee = coffee[~very_high_altitude]\n",
    "display(coffee.shape)\n",
    "\n",
    "moisture_zero = coffee['Moisture'] <= 0\n",
    "display('{} zero moisture'.format(moisture_zero.sum()))\n",
    "coffee = coffee[~moisture_zero]\n",
    "display(coffee.shape)\n",
    "\n",
    "Number_of_Bags_zero = coffee['Number_of_Bags'] <= 0\n",
    "display('{} Number_of_Bags'.format(Number_of_Bags_zero.sum()))\n",
    "coffee = coffee[~Number_of_Bags_zero]\n",
    "display(coffee.shape)\n",
    "\n",
    "\n",
    "\n"
   ]
  },
  {
   "cell_type": "code",
   "execution_count": null,
   "id": "a3693000",
   "metadata": {},
   "outputs": [],
   "source": [
    "# Function to calculate IQR and bounds, and store them in a dictionary\n",
    "def calculate_bounds(dataframe, columns):\n",
    "    bounds_dict = {}\n",
    "    for col in columns:\n",
    "        q1 = dataframe[col].quantile(0.25)  # 25th percentile\n",
    "        q3 = dataframe[col].quantile(0.75)  # 75th percentile\n",
    "        iqr = q3 - q1\n",
    "        lower_bound = (q1 - 1.5 * iqr).round(2)  # Lower bound\n",
    "        upper_bound = (q3 + 1.5 * iqr).round(2)  # Upper bound\n",
    "        bounds_dict[col] = {\n",
    "            'Lower Bound': lower_bound,\n",
    "            'Upper Bound': upper_bound\n",
    "        }\n",
    "    return bounds_dict\n",
    "\n",
    "bounds = calculate_bounds(coffee,num_cols)"
   ]
  },
  {
   "cell_type": "code",
   "execution_count": null,
   "id": "4353d9b6",
   "metadata": {},
   "outputs": [],
   "source": [
    "bounds"
   ]
  },
  {
   "cell_type": "code",
   "execution_count": null,
   "id": "4ff59369",
   "metadata": {},
   "outputs": [],
   "source": [
    "# Function to count values out of bounds for each column\n",
    "def count_out_of_bounds(dataframe, bounds):\n",
    "    out_of_bounds_counts = {}\n",
    "    for col, bound in bounds.items():\n",
    "        lower_bound = bound['Lower Bound']\n",
    "        upper_bound = bound['Upper Bound']\n",
    "        # Count values below the lower bound or above the upper bound\n",
    "        out_of_bounds_count = ((dataframe[col] < lower_bound) | (dataframe[col] > upper_bound)).sum()\n",
    "        out_of_bounds_counts[col] = out_of_bounds_count\n",
    "    return out_of_bounds_counts\n",
    "\n",
    "# Calculate out-of-bounds counts\n",
    "out_of_bounds_counts = count_out_of_bounds(coffee, bounds)\n",
    "print(out_of_bounds_counts)\n",
    "\n"
   ]
  },
  {
   "cell_type": "markdown",
   "id": "d859bb55",
   "metadata": {},
   "source": [
    "I think some outliers are reasonable  so leaving them"
   ]
  },
  {
   "cell_type": "code",
   "execution_count": null,
   "id": "553e3b5b",
   "metadata": {},
   "outputs": [],
   "source": [
    "# removal = ['Number_of_bags']\n",
    "# num_cols = num_cols\n",
    "cols_grading = ['Aroma', 'Flavor', 'Aftertaste', 'Acidity', 'Body', 'Balance', 'Uniformity', 'Clean_Cup', 'Sweetness', 'Cupper_Points', 'Total_Cup_Points']\n",
    "plt.figure(figsize = (8,6))\n",
    "sns.heatmap(coffee[cols_grading].corr(),annot = True, cmap = 'coolwarm')\n",
    "plt.show()"
   ]
  },
  {
   "cell_type": "markdown",
   "id": "5c0b908b",
   "metadata": {},
   "source": [
    "#### Choosing total cup points as target as it is most postively correlated with every other grading column"
   ]
  },
  {
   "cell_type": "code",
   "execution_count": null,
   "id": "cfde4750",
   "metadata": {},
   "outputs": [],
   "source": [
    "cat_cols = coffee.select_dtypes(include = ['object']).columns\n",
    "cat_cols"
   ]
  },
  {
   "cell_type": "markdown",
   "id": "20daf679",
   "metadata": {},
   "source": [
    "#### For visualizaiton i am choosing 'Country_of_Origin'  'Region','Farm_Name','Producer', 'Variety','Color', 'Processing_Method'"
   ]
  },
  {
   "cell_type": "code",
   "execution_count": null,
   "id": "84545843",
   "metadata": {
    "scrolled": false
   },
   "outputs": [],
   "source": [
    "import seaborn as sns\n",
    "import matplotlib.pyplot as plt\n",
    "\n",
    "# Target column\n",
    "target_col = 'Total_Cup_Points'\n",
    "\n",
    "# Categorical columns to visualize\n",
    "cat_vis = ['Country_of_Origin', 'Region', 'Farm_Name', 'Producer', 'Variety', 'Color', 'Processing_Method']\n",
    "\n",
    "# Loop through each categorical column\n",
    "for cat in cat_vis:\n",
    "    plt.figure(figsize=(10, 6))  # Set figure size for each plot\n",
    "    \n",
    "    # Check if the number of unique values in the category is greater than 10\n",
    "    if coffee[cat].nunique() > 10:\n",
    "        # Get the top 10 categories by frequency\n",
    "        top_categories = coffee[cat].value_counts().nlargest(10).index\n",
    "        subset = coffee[coffee[cat].isin(top_categories)]\n",
    "    else:\n",
    "        subset = coffee  # Use the full dataset if there are 10 or fewer categories\n",
    "    \n",
    "    # Create a box plot\n",
    "    sns.barplot(data=subset, x=cat, y=target_col)\n",
    "    \n",
    "    # Customize plot\n",
    "    plt.title(f\"Bar plot of {target_col} by {cat} (Top 10 Categories)\" if coffee[cat].nunique() > 10 else f\"Box Plot of {target_col} by {cat}\", fontsize=14)\n",
    "    plt.xticks(rotation=45, ha='right', fontsize=10)  # Rotate x-axis labels for better visibility\n",
    "    plt.ylabel(target_col, fontsize=12)\n",
    "    plt.xlabel(cat, fontsize=12)\n",
    "    \n",
    "    plt.tight_layout()  # Adjust layout to prevent overlap\n",
    "    plt.show()"
   ]
  },
  {
   "cell_type": "code",
   "execution_count": null,
   "id": "5e47e094",
   "metadata": {
    "scrolled": false
   },
   "outputs": [],
   "source": [
    "num_vis = ['Aroma', 'Flavor', 'Aftertaste', 'Acidity',\n",
    "       'Balance', 'Uniformity', 'Clean_Cup', 'Sweetness', 'Cupper_Points',\n",
    "        'Moisture', 'Category_One_Defects', 'Quakers',\n",
    "       'Category_Two_Defects', 'altitude_mean_meters']\n",
    "target_col = 'Total_Cup_Points'\n",
    "\n",
    "for col in num_vis:\n",
    "    plt.figure(figsize=(10, 6))  # Set figure size for each plot\n",
    "    \n",
    "    # Create a scatter plot\n",
    "    sns.regplot(data=coffee, x=col, y=target_col)\n",
    "    \n",
    "    # Customize plot\n",
    "    plt.title(f\"Scatter Plot of {target_col} vs {col}\", fontsize=14)\n",
    "    plt.xlabel(col, fontsize=12)\n",
    "    plt.ylabel(target_col, fontsize=12)\n",
    "    \n",
    "    plt.tight_layout()  # Adjust layout to prevent overlap\n",
    "    plt.show()"
   ]
  }
 ],
 "metadata": {
  "kernelspec": {
   "display_name": "Python 3 (ipykernel)",
   "language": "python",
   "name": "python3"
  },
  "language_info": {
   "codemirror_mode": {
    "name": "ipython",
    "version": 3
   },
   "file_extension": ".py",
   "mimetype": "text/x-python",
   "name": "python",
   "nbconvert_exporter": "python",
   "pygments_lexer": "ipython3",
   "version": "3.9.13"
  }
 },
 "nbformat": 4,
 "nbformat_minor": 5
}
